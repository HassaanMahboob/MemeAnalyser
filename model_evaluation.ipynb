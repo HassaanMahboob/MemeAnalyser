{
 "cells": [
  {
   "cell_type": "code",
   "execution_count": 20,
   "metadata": {},
   "outputs": [],
   "source": [
    "# %%\n",
    "import pandas as pd\n",
    "import numpy as np\n",
    "from PIL import Image\n",
    "import re\n",
    "import nltk\n",
    "# nltk.download('stopwords')\n",
    "# nltk.download('punkt')\n",
    "# nltk.download('wordnet')\n",
    "from nltk.corpus import stopwords\n",
    "from nltk.stem import WordNetLemmatizer \n",
    "from nltk.tokenize import word_tokenize \n",
    "import matplotlib.pyplot as plt\n",
    "import seaborn as sns\n",
    "import matplotlib.style as style\n",
    "import ast\n",
    "from sklearn.preprocessing import MultiLabelBinarizer\n",
    "from string import punctuation\n",
    "from gensim.models import KeyedVectors\n",
    "import pytesseract\n",
    "\n",
    "import pickle\n",
    "\n",
    "# %%\n",
    "from tensorflow.keras.preprocessing.text import Tokenizer\n",
    "from tensorflow.keras.preprocessing.sequence import pad_sequences\n",
    "from tensorflow.keras.models import Model, load_model\n",
    "from tensorflow.keras.layers import Embedding, LSTM, Dropout, Dense, Input, Bidirectional, Flatten, Conv2D, MaxPooling2D, concatenate, Conv1D, MaxPooling1D\n",
    "import tensorflow.keras.backend as K\n",
    "from tensorflow.keras.optimizers import Adam, RMSprop\n",
    "from  tensorflow.keras.callbacks import ModelCheckpoint, CSVLogger, EarlyStopping\n",
    "import tensorflow as tf\n",
    "from utils import clean_text"
   ]
  },
  {
   "cell_type": "code",
   "execution_count": 37,
   "metadata": {},
   "outputs": [],
   "source": [
    "import pickle\n",
    "dataset = pickle.load(open(\"Data\\dataset_v2.pk\", \"rb\" ))"
   ]
  },
  {
   "cell_type": "code",
   "execution_count": 38,
   "metadata": {},
   "outputs": [],
   "source": [
    "X_img_val = dataset[\"X_img_val\"]\n",
    "X_text_val = dataset[\"X_text_val\"]\n",
    "Y_val = dataset[\"Y_val\"] \n",
    "\n",
    "X_img_test = dataset[\"X_img_test\"]\n",
    "X_text_test = dataset[\"X_text_test\"]\n",
    "Y_test = dataset[\"Y_test\"]\n",
    "\n",
    "X_img_train = dataset[\"X_img_train\"]\n",
    "X_text_train = dataset[\"X_text_train\"]\n",
    "Y_train = dataset[\"Y_train\"]"
   ]
  },
  {
   "cell_type": "code",
   "execution_count": 39,
   "metadata": {},
   "outputs": [
    {
     "name": "stdout",
     "output_type": "stream",
     "text": [
      "WARNING:tensorflow:Error in loading the saved optimizer state. As a result, your model is starting with a freshly initialized optimizer.\n",
      "Shape of test tensor: (3000, 1601)\n"
     ]
    }
   ],
   "source": [
    "import meme_classification as mc\n",
    "m,c = mc.init_model()\n",
    "X_text_test = c.texts_to_sequences(X_text_test)\n",
    "X_text_test = pad_sequences(X_text_test, maxlen=1601)\n",
    "print('Shape of test tensor:', X_text_test.shape)\n"
   ]
  },
  {
   "cell_type": "code",
   "execution_count": 40,
   "metadata": {},
   "outputs": [
    {
     "name": "stdout",
     "output_type": "stream",
     "text": [
      "24/24 [==============================] - 195s 8s/step - loss: 0.5755 - accuracy: 0.7187\n"
     ]
    },
    {
     "data": {
      "text/plain": [
       "[0.5755102634429932, 0.718666672706604]"
      ]
     },
     "execution_count": 40,
     "metadata": {},
     "output_type": "execute_result"
    }
   ],
   "source": [
    "m.evaluate([X_img_test, X_text_test], Y_test, batch_size=128)"
   ]
  },
  {
   "cell_type": "code",
   "execution_count": 24,
   "metadata": {},
   "outputs": [],
   "source": [
    "Y_pred = m.predict([X_img_test, X_text_test])"
   ]
  },
  {
   "cell_type": "code",
   "execution_count": 27,
   "metadata": {},
   "outputs": [
    {
     "data": {
      "text/plain": [
       "array([[0.3203509 ],\n",
       "       [0.23599756],\n",
       "       [0.33151853],\n",
       "       ...,\n",
       "       [0.3754971 ],\n",
       "       [0.6204441 ],\n",
       "       [0.34318125]], dtype=float32)"
      ]
     },
     "execution_count": 27,
     "metadata": {},
     "output_type": "execute_result"
    }
   ],
   "source": [
    "Y_pred"
   ]
  },
  {
   "cell_type": "code",
   "execution_count": 25,
   "metadata": {},
   "outputs": [],
   "source": [
    "from sklearn.metrics import hamming_loss\n",
    "from sklearn.metrics import accuracy_score\n",
    "from sklearn.metrics import confusion_matrix\n",
    "from sklearn.metrics import precision_score\n",
    "from sklearn.metrics import recall_score\n",
    "from sklearn.metrics import f1_score\n",
    "from sklearn.metrics import roc_auc_score"
   ]
  },
  {
   "cell_type": "code",
   "execution_count": 26,
   "metadata": {},
   "outputs": [
    {
     "name": "stdout",
     "output_type": "stream",
     "text": [
      "0.7527555736123102\n"
     ]
    }
   ],
   "source": [
    "roc_auc = roc_auc_score(Y_test, Y_pred)\n",
    "print(roc_auc)"
   ]
  },
  {
   "cell_type": "code",
   "execution_count": 28,
   "metadata": {},
   "outputs": [],
   "source": [
    "y_pred = np.zeros(Y_pred.shape)\n",
    "y_pred[Y_pred>0.5]=1\n",
    "y_pred = np.array(y_pred)"
   ]
  },
  {
   "cell_type": "code",
   "execution_count": 32,
   "metadata": {},
   "outputs": [
    {
     "name": "stdout",
     "output_type": "stream",
     "text": [
      "Hamming loss: 0.2813333333333333\n",
      "Accuracy Score: 0.7186666666666667\n",
      "Precision: 0.5709459459459459\n",
      "F1_score: 0.5457481162540366\n"
     ]
    }
   ],
   "source": [
    "hl = hamming_loss(Y_test,y_pred)\n",
    "score = accuracy_score(Y_test, y_pred)\n",
    "precision = precision_score(Y_test,y_pred)\n",
    "recall = recall_score(Y_test,y_pred)\n",
    "f1 = f1_score(Y_test,y_pred)\n",
    "print(\"Hamming loss:\", hl)\n",
    "print(\"Accuracy Score:\", score)\n",
    "print(\"Precision:\", precision)\n",
    "print(\"F1_score:\", f1)"
   ]
  },
  {
   "cell_type": "code",
   "execution_count": 35,
   "metadata": {},
   "outputs": [
    {
     "data": {
      "image/png": "[encoded data removed]",
      "text/plain": [
       "<Figure size 432x288 with 2 Axes>"
      ]
     },
     "metadata": {
      "needs_background": "light"
     },
     "output_type": "display_data"
    }
   ],
   "source": [
    "from sklearn.metrics import confusion_matrix\n",
    "import matplotlib.pyplot as plt\n",
    "from sklearn.metrics import ConfusionMatrixDisplay\n",
    "\n",
    "cm = confusion_matrix(Y_test, y_pred)\n",
    "labels = [\"Not Hateful\", \"Hateful\"]\n",
    "\n",
    "disp = ConfusionMatrixDisplay(confusion_matrix=cm, display_labels=labels)\n",
    "\n",
    "disp.plot(cmap=plt.cm.Blues)\n",
    "plt.show()"
   ]
  }
 ],
 "metadata": {
  "interpreter": {
   "hash": "b5cf37a3177b5584b60c2291b6138bd1a3d691b566dd956db489f32b7f6d050e"
  },
  "kernelspec": {
   "display_name": "Python 3.9.6 64-bit",
   "language": "python",
   "name": "python3"
  },
  "language_info": {
   "codemirror_mode": {
    "name": "ipython",
    "version": 3
   },
   "file_extension": ".py",
   "mimetype": "text/x-python",
   "name": "python",
   "nbconvert_exporter": "python",
   "pygments_lexer": "ipython3",
   "version": "3.9.6"
  },
  "orig_nbformat": 4
 },
 "nbformat": 4,
 "nbformat_minor": 2
}
